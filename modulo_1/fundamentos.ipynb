{
 "cells": [
  {
   "cell_type": "markdown",
   "metadata": {},
   "source": [
    "## ¿Qué es una variable?"
   ]
  },
  {
   "cell_type": "markdown",
   "metadata": {},
   "source": [
    "### Booleanos"
   ]
  },
  {
   "cell_type": "code",
   "execution_count": 1,
   "metadata": {},
   "outputs": [
    {
     "data": {
      "text/plain": [
       "False"
      ]
     },
     "execution_count": 1,
     "metadata": {},
     "output_type": "execute_result"
    }
   ],
   "source": [
    "False"
   ]
  },
  {
   "cell_type": "code",
   "execution_count": 2,
   "metadata": {},
   "outputs": [
    {
     "data": {
      "text/plain": [
       "True"
      ]
     },
     "execution_count": 2,
     "metadata": {},
     "output_type": "execute_result"
    }
   ],
   "source": [
    "True"
   ]
  },
  {
   "cell_type": "markdown",
   "metadata": {},
   "source": [
    "### Numéricas"
   ]
  },
  {
   "cell_type": "markdown",
   "metadata": {},
   "source": [
    "Integers\n"
   ]
  },
  {
   "cell_type": "code",
   "execution_count": null,
   "metadata": {},
   "outputs": [],
   "source": [
    "2"
   ]
  },
  {
   "cell_type": "code",
   "execution_count": 4,
   "metadata": {},
   "outputs": [
    {
     "data": {
      "text/plain": [
       "8"
      ]
     },
     "execution_count": 4,
     "metadata": {},
     "output_type": "execute_result"
    }
   ],
   "source": [
    "3 + 5"
   ]
  },
  {
   "cell_type": "markdown",
   "metadata": {},
   "source": [
    "Float"
   ]
  },
  {
   "cell_type": "code",
   "execution_count": 6,
   "metadata": {},
   "outputs": [
    {
     "data": {
      "text/plain": [
       "5.85987"
      ]
     },
     "execution_count": 6,
     "metadata": {},
     "output_type": "execute_result"
    }
   ],
   "source": [
    "3.14159 + 2.71828"
   ]
  },
  {
   "cell_type": "markdown",
   "metadata": {},
   "source": [
    "Complex"
   ]
  },
  {
   "cell_type": "code",
   "execution_count": null,
   "metadata": {},
   "outputs": [],
   "source": [
    "imaginario = 3 + 5j"
   ]
  },
  {
   "cell_type": "markdown",
   "metadata": {},
   "source": [
    "### String"
   ]
  },
  {
   "cell_type": "code",
   "execution_count": 7,
   "metadata": {},
   "outputs": [
    {
     "data": {
      "text/plain": [
       "'Hola, mundo'"
      ]
     },
     "execution_count": 7,
     "metadata": {},
     "output_type": "execute_result"
    }
   ],
   "source": [
    "\"Hola, mundo\""
   ]
  },
  {
   "cell_type": "markdown",
   "metadata": {},
   "source": [
    "### Operadores"
   ]
  },
  {
   "cell_type": "markdown",
   "metadata": {},
   "source": [
    "Suma: +\n",
    "\n",
    "Resta: -\n",
    "\n",
    "Multiplicación: *\n",
    "\n",
    "División: /\n",
    "\n",
    "Potencia: **"
   ]
  },
  {
   "cell_type": "markdown",
   "metadata": {},
   "source": [
    "## Definir variables"
   ]
  },
  {
   "cell_type": "code",
   "execution_count": 9,
   "metadata": {},
   "outputs": [
    {
     "data": {
      "text/plain": [
       "'Hola, mundo'"
      ]
     },
     "execution_count": 9,
     "metadata": {},
     "output_type": "execute_result"
    }
   ],
   "source": [
    "hola = \"Hola, mundo\"\n",
    "hola"
   ]
  },
  {
   "cell_type": "code",
   "execution_count": 12,
   "metadata": {},
   "outputs": [
    {
     "data": {
      "text/plain": [
       "str"
      ]
     },
     "execution_count": 12,
     "metadata": {},
     "output_type": "execute_result"
    }
   ],
   "source": [
    "type(hola)"
   ]
  },
  {
   "cell_type": "code",
   "execution_count": 10,
   "metadata": {},
   "outputs": [],
   "source": [
    "suma_variable = 3.14159 + 2.71828"
   ]
  },
  {
   "cell_type": "code",
   "execution_count": 13,
   "metadata": {},
   "outputs": [
    {
     "data": {
      "text/plain": [
       "float"
      ]
     },
     "execution_count": 13,
     "metadata": {},
     "output_type": "execute_result"
    }
   ],
   "source": [
    "type(suma_variable)"
   ]
  },
  {
   "cell_type": "markdown",
   "metadata": {},
   "source": [
    "## Print"
   ]
  },
  {
   "cell_type": "code",
   "execution_count": 16,
   "metadata": {},
   "outputs": [
    {
     "name": "stdout",
     "output_type": "stream",
     "text": [
      "Hola, mundo\n"
     ]
    }
   ],
   "source": [
    "print(hola)"
   ]
  },
  {
   "cell_type": "code",
   "execution_count": 20,
   "metadata": {},
   "outputs": [
    {
     "name": "stdout",
     "output_type": "stream",
     "text": [
      "5.85987\n"
     ]
    }
   ],
   "source": [
    "print(suma_variable)"
   ]
  },
  {
   "cell_type": "code",
   "execution_count": 22,
   "metadata": {},
   "outputs": [
    {
     "name": "stdout",
     "output_type": "stream",
     "text": [
      "No es un string\n"
     ]
    }
   ],
   "source": [
    "if suma_variable == str:\n",
    "    print(\"Es un string\")\n",
    "else:\n",
    "    print(\"No es un string\")"
   ]
  },
  {
   "cell_type": "markdown",
   "metadata": {},
   "source": [
    "## Operaciones entre variables"
   ]
  },
  {
   "cell_type": "code",
   "execution_count": 50,
   "metadata": {},
   "outputs": [
    {
     "data": {
      "text/plain": [
       "8"
      ]
     },
     "execution_count": 50,
     "metadata": {},
     "output_type": "execute_result"
    }
   ],
   "source": [
    "# Suma\n",
    "3 + 5"
   ]
  },
  {
   "cell_type": "code",
   "execution_count": 51,
   "metadata": {},
   "outputs": [
    {
     "data": {
      "text/plain": [
       "-2"
      ]
     },
     "execution_count": 51,
     "metadata": {},
     "output_type": "execute_result"
    }
   ],
   "source": [
    "# Resta\n",
    "3 - 5"
   ]
  },
  {
   "cell_type": "code",
   "execution_count": 52,
   "metadata": {},
   "outputs": [
    {
     "data": {
      "text/plain": [
       "15"
      ]
     },
     "execution_count": 52,
     "metadata": {},
     "output_type": "execute_result"
    }
   ],
   "source": [
    "# Multiplicación\n",
    "3 * 5"
   ]
  },
  {
   "cell_type": "code",
   "execution_count": 53,
   "metadata": {},
   "outputs": [
    {
     "data": {
      "text/plain": [
       "0.6"
      ]
     },
     "execution_count": 53,
     "metadata": {},
     "output_type": "execute_result"
    }
   ],
   "source": [
    "# División\n",
    "3 / 5"
   ]
  },
  {
   "cell_type": "code",
   "execution_count": 54,
   "metadata": {},
   "outputs": [
    {
     "data": {
      "text/plain": [
       "243"
      ]
     },
     "execution_count": 54,
     "metadata": {},
     "output_type": "execute_result"
    }
   ],
   "source": [
    "# Potencia\n",
    "3 ** 5"
   ]
  },
  {
   "cell_type": "code",
   "execution_count": 56,
   "metadata": {},
   "outputs": [
    {
     "data": {
      "text/plain": [
       "1"
      ]
     },
     "execution_count": 56,
     "metadata": {},
     "output_type": "execute_result"
    }
   ],
   "source": [
    "# Residuo\n",
    "10 % 3"
   ]
  },
  {
   "cell_type": "markdown",
   "metadata": {},
   "source": [
    "## Variables numéricas y no numéricas no se pueden operar entre si"
   ]
  },
  {
   "cell_type": "code",
   "execution_count": 25,
   "metadata": {},
   "outputs": [],
   "source": [
    "adios = \"Adios, mundo\"\n",
    "variable_int = 2 + 2\n",
    "variable_bool = True\n",
    "variable_complex = 3 + 5j"
   ]
  },
  {
   "cell_type": "code",
   "execution_count": null,
   "metadata": {},
   "outputs": [],
   "source": [
    "suma_variable = adios + variable_int"
   ]
  },
  {
   "cell_type": "code",
   "execution_count": 28,
   "metadata": {},
   "outputs": [
    {
     "name": "stdout",
     "output_type": "stream",
     "text": [
      "(7+5j)\n"
     ]
    }
   ],
   "source": [
    "suma_variable_2 = variable_complex + variable_int\n",
    "print(suma_variable_2)"
   ]
  },
  {
   "cell_type": "code",
   "execution_count": 30,
   "metadata": {},
   "outputs": [
    {
     "name": "stdout",
     "output_type": "stream",
     "text": [
      "(4+5j)\n"
     ]
    }
   ],
   "source": [
    "suma_variable_3 = variable_complex + variable_bool\n",
    "print(suma_variable_3)"
   ]
  },
  {
   "cell_type": "code",
   "execution_count": 32,
   "metadata": {},
   "outputs": [
    {
     "name": "stdout",
     "output_type": "stream",
     "text": [
      "Adios, mundo cruel\n"
     ]
    }
   ],
   "source": [
    "suma_strings = adios + \" \" + \"cruel\"\n",
    "print(suma_strings)"
   ]
  },
  {
   "cell_type": "markdown",
   "metadata": {},
   "source": [
    "### Convertir tipos de variables"
   ]
  },
  {
   "cell_type": "code",
   "execution_count": 33,
   "metadata": {},
   "outputs": [],
   "source": [
    "variable_float = 3.14159"
   ]
  },
  {
   "cell_type": "code",
   "execution_count": 34,
   "metadata": {},
   "outputs": [
    {
     "name": "stdout",
     "output_type": "stream",
     "text": [
      "3.14159\n"
     ]
    }
   ],
   "source": [
    "print(variable_float)"
   ]
  },
  {
   "cell_type": "code",
   "execution_count": 35,
   "metadata": {},
   "outputs": [
    {
     "name": "stdout",
     "output_type": "stream",
     "text": [
      "3.14159\n"
     ]
    }
   ],
   "source": [
    "variable_float_convertida = str(variable_float)\n",
    "print(variable_float_convertida)"
   ]
  },
  {
   "cell_type": "code",
   "execution_count": 37,
   "metadata": {},
   "outputs": [
    {
     "data": {
      "text/plain": [
       "float"
      ]
     },
     "execution_count": 37,
     "metadata": {},
     "output_type": "execute_result"
    }
   ],
   "source": [
    "type(variable_float)"
   ]
  },
  {
   "cell_type": "code",
   "execution_count": 36,
   "metadata": {},
   "outputs": [
    {
     "data": {
      "text/plain": [
       "str"
      ]
     },
     "execution_count": 36,
     "metadata": {},
     "output_type": "execute_result"
    }
   ],
   "source": [
    "type(variable_float_convertida)"
   ]
  },
  {
   "cell_type": "code",
   "execution_count": null,
   "metadata": {},
   "outputs": [],
   "source": [
    "variable_float + \" es igual a Pi\""
   ]
  },
  {
   "cell_type": "code",
   "execution_count": 39,
   "metadata": {},
   "outputs": [
    {
     "data": {
      "text/plain": [
       "'3.14159 es igual a Pi'"
      ]
     },
     "execution_count": 39,
     "metadata": {},
     "output_type": "execute_result"
    }
   ],
   "source": [
    "variable_float_convertida + \" es igual a Pi\""
   ]
  },
  {
   "cell_type": "code",
   "execution_count": 67,
   "metadata": {},
   "outputs": [
    {
     "data": {
      "text/plain": [
       "5.0"
      ]
     },
     "execution_count": 67,
     "metadata": {},
     "output_type": "execute_result"
    }
   ],
   "source": [
    "float(5)"
   ]
  },
  {
   "cell_type": "code",
   "execution_count": 74,
   "metadata": {},
   "outputs": [
    {
     "data": {
      "text/plain": [
       "3"
      ]
     },
     "execution_count": 74,
     "metadata": {},
     "output_type": "execute_result"
    }
   ],
   "source": [
    "int(3.999999999)"
   ]
  },
  {
   "cell_type": "code",
   "execution_count": null,
   "metadata": {},
   "outputs": [],
   "source": [
    "int(\"hola\")"
   ]
  },
  {
   "cell_type": "markdown",
   "metadata": {},
   "source": [
    "### Input"
   ]
  },
  {
   "cell_type": "code",
   "execution_count": 41,
   "metadata": {},
   "outputs": [],
   "source": [
    "valor_1 = input(\"Introduce el sumando 1: \")\n",
    "valor_2 = input(\"Introduce el sumando 2: \")"
   ]
  },
  {
   "cell_type": "code",
   "execution_count": 42,
   "metadata": {},
   "outputs": [],
   "source": [
    "suma_inputs = valor_1 + valor_2"
   ]
  },
  {
   "cell_type": "code",
   "execution_count": 43,
   "metadata": {},
   "outputs": [
    {
     "name": "stdout",
     "output_type": "stream",
     "text": [
      "1533\n"
     ]
    }
   ],
   "source": [
    "print(suma_inputs)"
   ]
  },
  {
   "cell_type": "code",
   "execution_count": 44,
   "metadata": {},
   "outputs": [],
   "source": [
    "suma_inputs_numerico = int(valor_1) + int(valor_2)"
   ]
  },
  {
   "cell_type": "code",
   "execution_count": 45,
   "metadata": {},
   "outputs": [
    {
     "name": "stdout",
     "output_type": "stream",
     "text": [
      "48\n"
     ]
    }
   ],
   "source": [
    "print(suma_inputs_numerico)"
   ]
  },
  {
   "cell_type": "code",
   "execution_count": 46,
   "metadata": {},
   "outputs": [],
   "source": [
    "multiplo_1 = float(input(\"Introduce el primer número: \"))\n",
    "multiplo_2 = float(input(\"Introduce el segundo número: \"))"
   ]
  },
  {
   "cell_type": "code",
   "execution_count": 48,
   "metadata": {},
   "outputs": [],
   "source": [
    "multiplicacion_inputs = multiplo_1 * multiplo_2"
   ]
  },
  {
   "cell_type": "code",
   "execution_count": 49,
   "metadata": {},
   "outputs": [
    {
     "name": "stdout",
     "output_type": "stream",
     "text": [
      "19.743385200000002\n"
     ]
    }
   ],
   "source": [
    "print(multiplicacion_inputs)"
   ]
  },
  {
   "cell_type": "markdown",
   "metadata": {},
   "source": [
    "### Dinámica: Clasificar si el número es par"
   ]
  },
  {
   "cell_type": "code",
   "execution_count": 59,
   "metadata": {},
   "outputs": [
    {
     "name": "stdout",
     "output_type": "stream",
     "text": [
      "El número es par\n"
     ]
    }
   ],
   "source": [
    "numero_ingresado = float(input(\"Introduce un número: \"))\n",
    "\n",
    "if numero_ingresado % 2 == 0:\n",
    "    print(\"El número es par\")\n",
    "elif numero_ingresado == 1:\n",
    "    print(\"El número es 1, no se puede dividir entre 2\")\n",
    "else:\n",
    "    print(\"El número es impar\")"
   ]
  },
  {
   "cell_type": "markdown",
   "metadata": {},
   "source": [
    "## Variables múltiples"
   ]
  },
  {
   "cell_type": "code",
   "execution_count": 63,
   "metadata": {},
   "outputs": [
    {
     "name": "stdout",
     "output_type": "stream",
     "text": [
      "4\n",
      "74\n",
      "1200\n"
     ]
    }
   ],
   "source": [
    "x, y, z = 4, 74, 1200\n",
    "\n",
    "print(x)\n",
    "print(y)\n",
    "print(z)"
   ]
  },
  {
   "cell_type": "code",
   "execution_count": 64,
   "metadata": {},
   "outputs": [
    {
     "name": "stdout",
     "output_type": "stream",
     "text": [
      "4,74,1200\n"
     ]
    }
   ],
   "source": [
    "coordenadas = input(\"Introduce las coordenadas x, y, z divididas por comas: \")\n",
    "print(coordenadas)"
   ]
  },
  {
   "cell_type": "code",
   "execution_count": 65,
   "metadata": {},
   "outputs": [],
   "source": [
    "x, y, z = coordenadas.split(\",\")"
   ]
  },
  {
   "cell_type": "code",
   "execution_count": 66,
   "metadata": {},
   "outputs": [
    {
     "name": "stdout",
     "output_type": "stream",
     "text": [
      "4\n",
      "74\n",
      "1200\n"
     ]
    }
   ],
   "source": [
    "print(x)\n",
    "print(y)\n",
    "print(z)"
   ]
  },
  {
   "cell_type": "markdown",
   "metadata": {},
   "source": [
    "## Darle sentido a las variables"
   ]
  },
  {
   "cell_type": "markdown",
   "metadata": {},
   "source": [
    "Cuantitativa"
   ]
  },
  {
   "cell_type": "code",
   "execution_count": 77,
   "metadata": {},
   "outputs": [],
   "source": [
    "densidad_roca_1 = 1.25\n",
    "densidad_roca_2 = 2.93\n",
    "densidad_roca_3 = 3.1\n",
    "densidad_roca_4 = 2.7"
   ]
  },
  {
   "cell_type": "code",
   "execution_count": 78,
   "metadata": {},
   "outputs": [
    {
     "name": "stdout",
     "output_type": "stream",
     "text": [
      "2.495\n"
     ]
    }
   ],
   "source": [
    "densidad_media_rocas = (densidad_roca_1 + densidad_roca_2 + densidad_roca_3 + densidad_roca_4) / 4\n",
    "\n",
    "print(densidad_media_rocas)"
   ]
  },
  {
   "cell_type": "code",
   "execution_count": 79,
   "metadata": {},
   "outputs": [
    {
     "name": "stdout",
     "output_type": "stream",
     "text": [
      "La densidad media de las rocas es:  2.495 g/cm3\n"
     ]
    }
   ],
   "source": [
    "#Concatenación de variables\n",
    "print(\"La densidad media de las rocas es: \", densidad_media_rocas, \"g/cm3\")"
   ]
  },
  {
   "cell_type": "markdown",
   "metadata": {},
   "source": [
    "Cualitativas"
   ]
  },
  {
   "cell_type": "code",
   "execution_count": 80,
   "metadata": {},
   "outputs": [],
   "source": [
    "tipo_roca_1 = \"caliza\"\n",
    "tipo_roca_2 = \"granito\"\n",
    "tipo_roca_3 = \"arenisca\"\n",
    "tipo_roca_4 = \"arcillolita\""
   ]
  },
  {
   "cell_type": "code",
   "execution_count": 82,
   "metadata": {},
   "outputs": [
    {
     "name": "stdout",
     "output_type": "stream",
     "text": [
      "La densidad de la roca caliza es 1.25 g/cm3\n"
     ]
    }
   ],
   "source": [
    "print(\"La densidad de la roca\", tipo_roca_1, \"es\", densidad_roca_1, \"g/cm3\")"
   ]
  },
  {
   "cell_type": "markdown",
   "metadata": {},
   "source": [
    "### Ejercicio OOIP"
   ]
  },
  {
   "cell_type": "code",
   "execution_count": 83,
   "metadata": {},
   "outputs": [],
   "source": [
    "porosidad = 0.25\n",
    "net_pay = 50\n",
    "area = 1000 #acres\n",
    "sw = 0.25\n",
    "boi = 1.1\n",
    "cte = 1.5"
   ]
  },
  {
   "cell_type": "code",
   "execution_count": 84,
   "metadata": {},
   "outputs": [
    {
     "name": "stdout",
     "output_type": "stream",
     "text": [
      "Petroleo Original In Situ:  12784.090909090908 mmbbbls\n"
     ]
    }
   ],
   "source": [
    "stooiip = (cte*area*net_pay*porosidad*(1-sw))/boi\n",
    "\n",
    "print(\"Petroleo Original In Situ: \", stooiip, \"mmbbbls\")"
   ]
  },
  {
   "cell_type": "markdown",
   "metadata": {},
   "source": [
    "## Redondear"
   ]
  },
  {
   "cell_type": "code",
   "execution_count": 88,
   "metadata": {},
   "outputs": [
    {
     "data": {
      "text/plain": [
       "12784.0909"
      ]
     },
     "execution_count": 88,
     "metadata": {},
     "output_type": "execute_result"
    }
   ],
   "source": [
    "round(stooiip, 4)"
   ]
  },
  {
   "cell_type": "markdown",
   "metadata": {},
   "source": [
    "## F-Strings"
   ]
  },
  {
   "cell_type": "markdown",
   "metadata": {},
   "source": [
    "f\"texto {variable:operador} más texto\""
   ]
  },
  {
   "cell_type": "code",
   "execution_count": 89,
   "metadata": {},
   "outputs": [
    {
     "name": "stdout",
     "output_type": "stream",
     "text": [
      "stooiip: 12784.0909\n"
     ]
    }
   ],
   "source": [
    "print(f\"stooiip: {stooiip:.4f}\")"
   ]
  },
  {
   "cell_type": "code",
   "execution_count": 91,
   "metadata": {},
   "outputs": [
    {
     "data": {
      "text/plain": [
       "0.7961165048543689"
      ]
     },
     "execution_count": 91,
     "metadata": {},
     "output_type": "execute_result"
    }
   ],
   "source": [
    "rqd = (12 + 15 + 25 + 19 + 11) / (8 + 12 + 15 + 9 + 25 + 19 + 11 + 4)\n",
    "rqd"
   ]
  },
  {
   "cell_type": "code",
   "execution_count": 93,
   "metadata": {},
   "outputs": [
    {
     "name": "stdout",
     "output_type": "stream",
     "text": [
      "El RQD en porcentaje es: 79.61%\n"
     ]
    }
   ],
   "source": [
    "print(f\"El RQD en porcentaje es: {rqd:.2%}\")"
   ]
  },
  {
   "cell_type": "markdown",
   "metadata": {},
   "source": [
    "Esta fue la clase 1 de fundamentos de python"
   ]
  },
  {
   "cell_type": "markdown",
   "metadata": {},
   "source": [
    "## Numpy"
   ]
  },
  {
   "cell_type": "markdown",
   "metadata": {},
   "source": [
    "# Numpy"
   ]
  },
  {
   "cell_type": "code",
   "execution_count": 2,
   "metadata": {},
   "outputs": [],
   "source": [
    "import numpy as np\n",
    "import pandas as pd"
   ]
  },
  {
   "cell_type": "code",
   "execution_count": 5,
   "metadata": {},
   "outputs": [
    {
     "data": {
      "text/html": [
       "<div>\n",
       "<style scoped>\n",
       "    .dataframe tbody tr th:only-of-type {\n",
       "        vertical-align: middle;\n",
       "    }\n",
       "\n",
       "    .dataframe tbody tr th {\n",
       "        vertical-align: top;\n",
       "    }\n",
       "\n",
       "    .dataframe thead th {\n",
       "        text-align: right;\n",
       "    }\n",
       "</style>\n",
       "<table border=\"1\" class=\"dataframe\">\n",
       "  <thead>\n",
       "    <tr style=\"text-align: right;\">\n",
       "      <th></th>\n",
       "      <th>X</th>\n",
       "      <th>Y</th>\n",
       "      <th>OBJECTID</th>\n",
       "      <th>VolcanID</th>\n",
       "      <th>NombreVolcan</th>\n",
       "      <th>AlturaSobreNivelMar</th>\n",
       "      <th>Latitud</th>\n",
       "      <th>Longitud</th>\n",
       "      <th>Comentarios</th>\n",
       "      <th>URL</th>\n",
       "      <th>GlobalID</th>\n",
       "    </tr>\n",
       "  </thead>\n",
       "  <tbody>\n",
       "    <tr>\n",
       "      <th>0</th>\n",
       "      <td>-76.214977</td>\n",
       "      <td>1.916518</td>\n",
       "      <td>1</td>\n",
       "      <td>NaN</td>\n",
       "      <td>NaN</td>\n",
       "      <td>1800.0</td>\n",
       "      <td>1° 54' 59,465\" N</td>\n",
       "      <td>76° 12' 53,917\" W</td>\n",
       "      <td>Edificio volcánico en el municipio de Isnos en...</td>\n",
       "      <td>NaN</td>\n",
       "      <td>071b82b6-5b8a-47d0-ba87-5ebfd34e4bac</td>\n",
       "    </tr>\n",
       "    <tr>\n",
       "      <th>1</th>\n",
       "      <td>-76.166495</td>\n",
       "      <td>2.232286</td>\n",
       "      <td>2</td>\n",
       "      <td>NaN</td>\n",
       "      <td>Volcan Santa Leticia</td>\n",
       "      <td>NaN</td>\n",
       "      <td>2° 13' 56,229\" N</td>\n",
       "      <td>76° 9' 59,382\" W</td>\n",
       "      <td>NaN</td>\n",
       "      <td>NaN</td>\n",
       "      <td>f5a4cc3d-fc7e-46a1-b8d9-69fdcb4a541a</td>\n",
       "    </tr>\n",
       "    <tr>\n",
       "      <th>2</th>\n",
       "      <td>-76.082576</td>\n",
       "      <td>2.179546</td>\n",
       "      <td>3</td>\n",
       "      <td>NaN</td>\n",
       "      <td>Volcán El Pensil</td>\n",
       "      <td>2200.0</td>\n",
       "      <td>2° 10' 46,366\" N</td>\n",
       "      <td>76° 4' 57,273\" W</td>\n",
       "      <td>NaN</td>\n",
       "      <td>NaN</td>\n",
       "      <td>e09ff266-bee3-4ea4-98df-8765b2c0b164</td>\n",
       "    </tr>\n",
       "    <tr>\n",
       "      <th>3</th>\n",
       "      <td>-76.217778</td>\n",
       "      <td>2.110280</td>\n",
       "      <td>4</td>\n",
       "      <td>NaN</td>\n",
       "      <td>Volcán El Dorado</td>\n",
       "      <td>2000.0</td>\n",
       "      <td>2° 6' 37,008\" N</td>\n",
       "      <td>76° 13' 4,001\" W</td>\n",
       "      <td>NaN</td>\n",
       "      <td>NaN</td>\n",
       "      <td>073bdc7f-d632-4954-a383-cc1d4d083b7c</td>\n",
       "    </tr>\n",
       "    <tr>\n",
       "      <th>4</th>\n",
       "      <td>-76.477694</td>\n",
       "      <td>2.240949</td>\n",
       "      <td>5</td>\n",
       "      <td>NaN</td>\n",
       "      <td>Maar de Yerbabuena</td>\n",
       "      <td>3100.0</td>\n",
       "      <td>2° 14' 27,415\" N</td>\n",
       "      <td>76° 28' 39,697\" W</td>\n",
       "      <td>NaN</td>\n",
       "      <td>NaN</td>\n",
       "      <td>d6077acc-cac2-4c9b-be59-64ba98040e8a</td>\n",
       "    </tr>\n",
       "    <tr>\n",
       "      <th>...</th>\n",
       "      <td>...</td>\n",
       "      <td>...</td>\n",
       "      <td>...</td>\n",
       "      <td>...</td>\n",
       "      <td>...</td>\n",
       "      <td>...</td>\n",
       "      <td>...</td>\n",
       "      <td>...</td>\n",
       "      <td>...</td>\n",
       "      <td>...</td>\n",
       "      <td>...</td>\n",
       "    </tr>\n",
       "    <tr>\n",
       "      <th>56</th>\n",
       "      <td>-77.252273</td>\n",
       "      <td>1.103001</td>\n",
       "      <td>73</td>\n",
       "      <td>NaN</td>\n",
       "      <td>NaN</td>\n",
       "      <td>NaN</td>\n",
       "      <td>1° 6' 10,805\" N</td>\n",
       "      <td>77° 15' 8,184\" W</td>\n",
       "      <td>NaN</td>\n",
       "      <td>NaN</td>\n",
       "      <td>ac310993-70ea-4eb8-a146-615eaf77672d</td>\n",
       "    </tr>\n",
       "    <tr>\n",
       "      <th>57</th>\n",
       "      <td>-77.316687</td>\n",
       "      <td>1.108989</td>\n",
       "      <td>74</td>\n",
       "      <td>NaN</td>\n",
       "      <td>NaN</td>\n",
       "      <td>NaN</td>\n",
       "      <td>1° 6' 32,359\" N</td>\n",
       "      <td>77° 19' 0,074\" W</td>\n",
       "      <td>NaN</td>\n",
       "      <td>NaN</td>\n",
       "      <td>86f65aea-6140-4347-91af-a30f7cda1eb5</td>\n",
       "    </tr>\n",
       "    <tr>\n",
       "      <th>58</th>\n",
       "      <td>-75.047612</td>\n",
       "      <td>5.514637</td>\n",
       "      <td>75</td>\n",
       "      <td>NaN</td>\n",
       "      <td>Volcán El Escondido</td>\n",
       "      <td>1700.0</td>\n",
       "      <td>5° 30' 52,694\" N</td>\n",
       "      <td>75° 2' 51,403\" W</td>\n",
       "      <td>NaN</td>\n",
       "      <td>NaN</td>\n",
       "      <td>c4632aab-d859-4947-a111-16848da76964</td>\n",
       "    </tr>\n",
       "    <tr>\n",
       "      <th>59</th>\n",
       "      <td>-74.960051</td>\n",
       "      <td>5.649027</td>\n",
       "      <td>78</td>\n",
       "      <td>NaN</td>\n",
       "      <td>Volcán San Diego</td>\n",
       "      <td>850.0</td>\n",
       "      <td>5° 38' 56,496\" N</td>\n",
       "      <td>74° 57' 36,185\" W</td>\n",
       "      <td>NaN</td>\n",
       "      <td>http://www2.sgc.gov.co/Manizales/Volcanes/Volc...</td>\n",
       "      <td>54109551-d3fb-4243-8318-19fb0ec738a7</td>\n",
       "    </tr>\n",
       "    <tr>\n",
       "      <th>60</th>\n",
       "      <td>-75.364000</td>\n",
       "      <td>5.206000</td>\n",
       "      <td>79</td>\n",
       "      <td>NaN</td>\n",
       "      <td>Volcán Romeral</td>\n",
       "      <td>3858.0</td>\n",
       "      <td>5° 12' 21,600\" N</td>\n",
       "      <td>75° 21' 50,400\" W</td>\n",
       "      <td>NaN</td>\n",
       "      <td>http://www2.sgc.gov.co/Manizales/Volcanes/Volc...</td>\n",
       "      <td>02b06127-e868-4aed-9bf9-31d177d440cc</td>\n",
       "    </tr>\n",
       "  </tbody>\n",
       "</table>\n",
       "<p>61 rows × 11 columns</p>\n",
       "</div>"
      ],
      "text/plain": [
       "            X         Y  OBJECTID  VolcanID          NombreVolcan  \\\n",
       "0  -76.214977  1.916518         1       NaN                   NaN   \n",
       "1  -76.166495  2.232286         2       NaN  Volcan Santa Leticia   \n",
       "2  -76.082576  2.179546         3       NaN      Volcán El Pensil   \n",
       "3  -76.217778  2.110280         4       NaN      Volcán El Dorado   \n",
       "4  -76.477694  2.240949         5       NaN    Maar de Yerbabuena   \n",
       "..        ...       ...       ...       ...                   ...   \n",
       "56 -77.252273  1.103001        73       NaN                   NaN   \n",
       "57 -77.316687  1.108989        74       NaN                   NaN   \n",
       "58 -75.047612  5.514637        75       NaN   Volcán El Escondido   \n",
       "59 -74.960051  5.649027        78       NaN      Volcán San Diego   \n",
       "60 -75.364000  5.206000        79       NaN        Volcán Romeral   \n",
       "\n",
       "    AlturaSobreNivelMar           Latitud           Longitud  \\\n",
       "0                1800.0  1° 54' 59,465\" N  76° 12' 53,917\" W   \n",
       "1                   NaN  2° 13' 56,229\" N   76° 9' 59,382\" W   \n",
       "2                2200.0  2° 10' 46,366\" N   76° 4' 57,273\" W   \n",
       "3                2000.0   2° 6' 37,008\" N   76° 13' 4,001\" W   \n",
       "4                3100.0  2° 14' 27,415\" N  76° 28' 39,697\" W   \n",
       "..                  ...               ...                ...   \n",
       "56                  NaN   1° 6' 10,805\" N   77° 15' 8,184\" W   \n",
       "57                  NaN   1° 6' 32,359\" N   77° 19' 0,074\" W   \n",
       "58               1700.0  5° 30' 52,694\" N   75° 2' 51,403\" W   \n",
       "59                850.0  5° 38' 56,496\" N  74° 57' 36,185\" W   \n",
       "60               3858.0  5° 12' 21,600\" N  75° 21' 50,400\" W   \n",
       "\n",
       "                                          Comentarios  \\\n",
       "0   Edificio volcánico en el municipio de Isnos en...   \n",
       "1                                                 NaN   \n",
       "2                                                 NaN   \n",
       "3                                                 NaN   \n",
       "4                                                 NaN   \n",
       "..                                                ...   \n",
       "56                                                NaN   \n",
       "57                                                NaN   \n",
       "58                                                NaN   \n",
       "59                                                NaN   \n",
       "60                                                NaN   \n",
       "\n",
       "                                                  URL  \\\n",
       "0                                                 NaN   \n",
       "1                                                 NaN   \n",
       "2                                                 NaN   \n",
       "3                                                 NaN   \n",
       "4                                                 NaN   \n",
       "..                                                ...   \n",
       "56                                                NaN   \n",
       "57                                                NaN   \n",
       "58                                                NaN   \n",
       "59  http://www2.sgc.gov.co/Manizales/Volcanes/Volc...   \n",
       "60  http://www2.sgc.gov.co/Manizales/Volcanes/Volc...   \n",
       "\n",
       "                                GlobalID  \n",
       "0   071b82b6-5b8a-47d0-ba87-5ebfd34e4bac  \n",
       "1   f5a4cc3d-fc7e-46a1-b8d9-69fdcb4a541a  \n",
       "2   e09ff266-bee3-4ea4-98df-8765b2c0b164  \n",
       "3   073bdc7f-d632-4954-a383-cc1d4d083b7c  \n",
       "4   d6077acc-cac2-4c9b-be59-64ba98040e8a  \n",
       "..                                   ...  \n",
       "56  ac310993-70ea-4eb8-a146-615eaf77672d  \n",
       "57  86f65aea-6140-4347-91af-a30f7cda1eb5  \n",
       "58  c4632aab-d859-4947-a111-16848da76964  \n",
       "59  54109551-d3fb-4243-8318-19fb0ec738a7  \n",
       "60  02b06127-e868-4aed-9bf9-31d177d440cc  \n",
       "\n",
       "[61 rows x 11 columns]"
      ]
     },
     "execution_count": 5,
     "metadata": {},
     "output_type": "execute_result"
    }
   ],
   "source": [
    "df= pd.read_csv(\"datos/Volcanes_col.csv\", sep=\",\")\n"
   ]
  },
  {
   "cell_type": "code",
   "execution_count": 7,
   "metadata": {},
   "outputs": [
    {
     "data": {
      "text/html": [
       "<div>\n",
       "<style scoped>\n",
       "    .dataframe tbody tr th:only-of-type {\n",
       "        vertical-align: middle;\n",
       "    }\n",
       "\n",
       "    .dataframe tbody tr th {\n",
       "        vertical-align: top;\n",
       "    }\n",
       "\n",
       "    .dataframe thead th {\n",
       "        text-align: right;\n",
       "    }\n",
       "</style>\n",
       "<table border=\"1\" class=\"dataframe\">\n",
       "  <thead>\n",
       "    <tr style=\"text-align: right;\">\n",
       "      <th></th>\n",
       "      <th>X</th>\n",
       "      <th>Y</th>\n",
       "      <th>OBJECTID</th>\n",
       "      <th>VolcanID</th>\n",
       "      <th>NombreVolcan</th>\n",
       "      <th>AlturaSobreNivelMar</th>\n",
       "      <th>Latitud</th>\n",
       "      <th>Longitud</th>\n",
       "      <th>Comentarios</th>\n",
       "      <th>URL</th>\n",
       "      <th>GlobalID</th>\n",
       "    </tr>\n",
       "  </thead>\n",
       "  <tbody>\n",
       "    <tr>\n",
       "      <th>0</th>\n",
       "      <td>-76.214977</td>\n",
       "      <td>1.916518</td>\n",
       "      <td>1</td>\n",
       "      <td>NaN</td>\n",
       "      <td>NaN</td>\n",
       "      <td>1800.0</td>\n",
       "      <td>1° 54' 59,465\" N</td>\n",
       "      <td>76° 12' 53,917\" W</td>\n",
       "      <td>Edificio volcánico en el municipio de Isnos en...</td>\n",
       "      <td>NaN</td>\n",
       "      <td>071b82b6-5b8a-47d0-ba87-5ebfd34e4bac</td>\n",
       "    </tr>\n",
       "    <tr>\n",
       "      <th>1</th>\n",
       "      <td>-76.166495</td>\n",
       "      <td>2.232286</td>\n",
       "      <td>2</td>\n",
       "      <td>NaN</td>\n",
       "      <td>Volcan Santa Leticia</td>\n",
       "      <td>NaN</td>\n",
       "      <td>2° 13' 56,229\" N</td>\n",
       "      <td>76° 9' 59,382\" W</td>\n",
       "      <td>NaN</td>\n",
       "      <td>NaN</td>\n",
       "      <td>f5a4cc3d-fc7e-46a1-b8d9-69fdcb4a541a</td>\n",
       "    </tr>\n",
       "    <tr>\n",
       "      <th>2</th>\n",
       "      <td>-76.082576</td>\n",
       "      <td>2.179546</td>\n",
       "      <td>3</td>\n",
       "      <td>NaN</td>\n",
       "      <td>Volcán El Pensil</td>\n",
       "      <td>2200.0</td>\n",
       "      <td>2° 10' 46,366\" N</td>\n",
       "      <td>76° 4' 57,273\" W</td>\n",
       "      <td>NaN</td>\n",
       "      <td>NaN</td>\n",
       "      <td>e09ff266-bee3-4ea4-98df-8765b2c0b164</td>\n",
       "    </tr>\n",
       "    <tr>\n",
       "      <th>3</th>\n",
       "      <td>-76.217778</td>\n",
       "      <td>2.110280</td>\n",
       "      <td>4</td>\n",
       "      <td>NaN</td>\n",
       "      <td>Volcán El Dorado</td>\n",
       "      <td>2000.0</td>\n",
       "      <td>2° 6' 37,008\" N</td>\n",
       "      <td>76° 13' 4,001\" W</td>\n",
       "      <td>NaN</td>\n",
       "      <td>NaN</td>\n",
       "      <td>073bdc7f-d632-4954-a383-cc1d4d083b7c</td>\n",
       "    </tr>\n",
       "    <tr>\n",
       "      <th>4</th>\n",
       "      <td>-76.477694</td>\n",
       "      <td>2.240949</td>\n",
       "      <td>5</td>\n",
       "      <td>NaN</td>\n",
       "      <td>Maar de Yerbabuena</td>\n",
       "      <td>3100.0</td>\n",
       "      <td>2° 14' 27,415\" N</td>\n",
       "      <td>76° 28' 39,697\" W</td>\n",
       "      <td>NaN</td>\n",
       "      <td>NaN</td>\n",
       "      <td>d6077acc-cac2-4c9b-be59-64ba98040e8a</td>\n",
       "    </tr>\n",
       "  </tbody>\n",
       "</table>\n",
       "</div>"
      ],
      "text/plain": [
       "           X         Y  OBJECTID  VolcanID          NombreVolcan  \\\n",
       "0 -76.214977  1.916518         1       NaN                   NaN   \n",
       "1 -76.166495  2.232286         2       NaN  Volcan Santa Leticia   \n",
       "2 -76.082576  2.179546         3       NaN      Volcán El Pensil   \n",
       "3 -76.217778  2.110280         4       NaN      Volcán El Dorado   \n",
       "4 -76.477694  2.240949         5       NaN    Maar de Yerbabuena   \n",
       "\n",
       "   AlturaSobreNivelMar           Latitud           Longitud  \\\n",
       "0               1800.0  1° 54' 59,465\" N  76° 12' 53,917\" W   \n",
       "1                  NaN  2° 13' 56,229\" N   76° 9' 59,382\" W   \n",
       "2               2200.0  2° 10' 46,366\" N   76° 4' 57,273\" W   \n",
       "3               2000.0   2° 6' 37,008\" N   76° 13' 4,001\" W   \n",
       "4               3100.0  2° 14' 27,415\" N  76° 28' 39,697\" W   \n",
       "\n",
       "                                         Comentarios  URL  \\\n",
       "0  Edificio volcánico en el municipio de Isnos en...  NaN   \n",
       "1                                                NaN  NaN   \n",
       "2                                                NaN  NaN   \n",
       "3                                                NaN  NaN   \n",
       "4                                                NaN  NaN   \n",
       "\n",
       "                               GlobalID  \n",
       "0  071b82b6-5b8a-47d0-ba87-5ebfd34e4bac  \n",
       "1  f5a4cc3d-fc7e-46a1-b8d9-69fdcb4a541a  \n",
       "2  e09ff266-bee3-4ea4-98df-8765b2c0b164  \n",
       "3  073bdc7f-d632-4954-a383-cc1d4d083b7c  \n",
       "4  d6077acc-cac2-4c9b-be59-64ba98040e8a  "
      ]
     },
     "execution_count": 7,
     "metadata": {},
     "output_type": "execute_result"
    }
   ],
   "source": [
    "df.head()"
   ]
  },
  {
   "cell_type": "code",
   "execution_count": 8,
   "metadata": {},
   "outputs": [],
   "source": [
    "import matplotlib.pyplot as plt\n",
    "import seaborn as sns"
   ]
  },
  {
   "cell_type": "code",
   "execution_count": 11,
   "metadata": {},
   "outputs": [],
   "source": [
    "iris = sns.load_dataset(\"iris\")"
   ]
  },
  {
   "cell_type": "code",
   "execution_count": 12,
   "metadata": {},
   "outputs": [
    {
     "data": {
      "text/html": [
       "<div>\n",
       "<style scoped>\n",
       "    .dataframe tbody tr th:only-of-type {\n",
       "        vertical-align: middle;\n",
       "    }\n",
       "\n",
       "    .dataframe tbody tr th {\n",
       "        vertical-align: top;\n",
       "    }\n",
       "\n",
       "    .dataframe thead th {\n",
       "        text-align: right;\n",
       "    }\n",
       "</style>\n",
       "<table border=\"1\" class=\"dataframe\">\n",
       "  <thead>\n",
       "    <tr style=\"text-align: right;\">\n",
       "      <th></th>\n",
       "      <th>sepal_length</th>\n",
       "      <th>sepal_width</th>\n",
       "      <th>petal_length</th>\n",
       "      <th>petal_width</th>\n",
       "      <th>species</th>\n",
       "    </tr>\n",
       "  </thead>\n",
       "  <tbody>\n",
       "    <tr>\n",
       "      <th>0</th>\n",
       "      <td>5.1</td>\n",
       "      <td>3.5</td>\n",
       "      <td>1.4</td>\n",
       "      <td>0.2</td>\n",
       "      <td>setosa</td>\n",
       "    </tr>\n",
       "    <tr>\n",
       "      <th>1</th>\n",
       "      <td>4.9</td>\n",
       "      <td>3.0</td>\n",
       "      <td>1.4</td>\n",
       "      <td>0.2</td>\n",
       "      <td>setosa</td>\n",
       "    </tr>\n",
       "    <tr>\n",
       "      <th>2</th>\n",
       "      <td>4.7</td>\n",
       "      <td>3.2</td>\n",
       "      <td>1.3</td>\n",
       "      <td>0.2</td>\n",
       "      <td>setosa</td>\n",
       "    </tr>\n",
       "    <tr>\n",
       "      <th>3</th>\n",
       "      <td>4.6</td>\n",
       "      <td>3.1</td>\n",
       "      <td>1.5</td>\n",
       "      <td>0.2</td>\n",
       "      <td>setosa</td>\n",
       "    </tr>\n",
       "    <tr>\n",
       "      <th>4</th>\n",
       "      <td>5.0</td>\n",
       "      <td>3.6</td>\n",
       "      <td>1.4</td>\n",
       "      <td>0.2</td>\n",
       "      <td>setosa</td>\n",
       "    </tr>\n",
       "    <tr>\n",
       "      <th>...</th>\n",
       "      <td>...</td>\n",
       "      <td>...</td>\n",
       "      <td>...</td>\n",
       "      <td>...</td>\n",
       "      <td>...</td>\n",
       "    </tr>\n",
       "    <tr>\n",
       "      <th>145</th>\n",
       "      <td>6.7</td>\n",
       "      <td>3.0</td>\n",
       "      <td>5.2</td>\n",
       "      <td>2.3</td>\n",
       "      <td>virginica</td>\n",
       "    </tr>\n",
       "    <tr>\n",
       "      <th>146</th>\n",
       "      <td>6.3</td>\n",
       "      <td>2.5</td>\n",
       "      <td>5.0</td>\n",
       "      <td>1.9</td>\n",
       "      <td>virginica</td>\n",
       "    </tr>\n",
       "    <tr>\n",
       "      <th>147</th>\n",
       "      <td>6.5</td>\n",
       "      <td>3.0</td>\n",
       "      <td>5.2</td>\n",
       "      <td>2.0</td>\n",
       "      <td>virginica</td>\n",
       "    </tr>\n",
       "    <tr>\n",
       "      <th>148</th>\n",
       "      <td>6.2</td>\n",
       "      <td>3.4</td>\n",
       "      <td>5.4</td>\n",
       "      <td>2.3</td>\n",
       "      <td>virginica</td>\n",
       "    </tr>\n",
       "    <tr>\n",
       "      <th>149</th>\n",
       "      <td>5.9</td>\n",
       "      <td>3.0</td>\n",
       "      <td>5.1</td>\n",
       "      <td>1.8</td>\n",
       "      <td>virginica</td>\n",
       "    </tr>\n",
       "  </tbody>\n",
       "</table>\n",
       "<p>150 rows × 5 columns</p>\n",
       "</div>"
      ],
      "text/plain": [
       "     sepal_length  sepal_width  petal_length  petal_width    species\n",
       "0             5.1          3.5           1.4          0.2     setosa\n",
       "1             4.9          3.0           1.4          0.2     setosa\n",
       "2             4.7          3.2           1.3          0.2     setosa\n",
       "3             4.6          3.1           1.5          0.2     setosa\n",
       "4             5.0          3.6           1.4          0.2     setosa\n",
       "..            ...          ...           ...          ...        ...\n",
       "145           6.7          3.0           5.2          2.3  virginica\n",
       "146           6.3          2.5           5.0          1.9  virginica\n",
       "147           6.5          3.0           5.2          2.0  virginica\n",
       "148           6.2          3.4           5.4          2.3  virginica\n",
       "149           5.9          3.0           5.1          1.8  virginica\n",
       "\n",
       "[150 rows x 5 columns]"
      ]
     },
     "execution_count": 12,
     "metadata": {},
     "output_type": "execute_result"
    }
   ],
   "source": [
    "iris"
   ]
  },
  {
   "cell_type": "code",
   "execution_count": 32,
   "metadata": {},
   "outputs": [
    {
     "data": {
      "text/plain": [
       "<AxesSubplot:xlabel='sepal_width', ylabel='Count'>"
      ]
     },
     "execution_count": 32,
     "metadata": {},
     "output_type": "execute_result"
    },
    {
     "data": {
      "image/png": "[encoded data removed]",
      "text/plain": [
       "<Figure size 640x480 with 1 Axes>"
      ]
     },
     "metadata": {},
     "output_type": "display_data"
    }
   ],
   "source": [
    "sns.histplot(iris[\"sepal_width\"], bins=30, kde=True)"
   ]
  },
  {
   "cell_type": "code",
   "execution_count": 33,
   "metadata": {},
   "outputs": [
    {
     "data": {
      "text/plain": [
       "<AxesSubplot:xlabel='sepal_width', ylabel='Density'>"
      ]
     },
     "execution_count": 33,
     "metadata": {},
     "output_type": "execute_result"
    },
    {
     "data": {
      "image/png": "[encoded data removed]",
      "text/plain": [
       "<Figure size 640x480 with 1 Axes>"
      ]
     },
     "metadata": {},
     "output_type": "display_data"
    }
   ],
   "source": [
    "sns.kdeplot(iris[\"sepal_width\"], shade=True)"
   ]
  },
  {
   "cell_type": "code",
   "execution_count": 63,
   "metadata": {},
   "outputs": [
    {
     "data": {
      "text/plain": [
       "<function matplotlib.pyplot.show(close=None, block=None)>"
      ]
     },
     "execution_count": 63,
     "metadata": {},
     "output_type": "execute_result"
    },
    {
     "data": {
      "image/png": "[encoded data removed]",
      "text/plain": [
       "<Figure size 640x480 with 1 Axes>"
      ]
     },
     "metadata": {},
     "output_type": "display_data"
    }
   ],
   "source": [
    "percentil95 = iris[\"sepal_width\"].quantile(0.95)\n",
    "percentil50 = iris[\"sepal_width\"].quantile(0.5) #mediana\n",
    "percentil10 = iris[\"sepal_width\"].quantile(0.1)\n",
    "mean = iris[\"sepal_width\"].mean()\n",
    "\n",
    "sns.histplot(iris[\"sepal_width\"], bins=13, kde=True)\n",
    "plt.axvline(percentil95, color=\"red\", linestyle='--')\n",
    "plt.axvline(percentil50, color=\"blue\", linestyle='--')\n",
    "plt.axvline(percentil10, color=\"green\", linestyle='--')\n",
    "plt.axvline(mean, color=\"orange\", linestyle='--')\n",
    "\n",
    "plt.show"
   ]
  },
  {
   "cell_type": "code",
   "execution_count": 57,
   "metadata": {},
   "outputs": [],
   "source": [
    "\n"
   ]
  },
  {
   "cell_type": "code",
   "execution_count": null,
   "metadata": {},
   "outputs": [],
   "source": [
    "matrix = iris.corr\n",
    "\n",
    "plt.figure(figsize=(15,15))\n",
    "sns.heatmap(matrix, annot=True, cmap=\"coolwarn\")\n",
    "plt.show"
   ]
  },
  {
   "cell_type": "code",
   "execution_count": 62,
   "metadata": {},
   "outputs": [
    {
     "data": {
      "text/plain": [
       "<seaborn.axisgrid.PairGrid at 0x1bede7279d0>"
      ]
     },
     "execution_count": 62,
     "metadata": {},
     "output_type": "execute_result"
    },
    {
     "data": {
      "image/png": "[encoded data removed]",
      "text/plain": [
       "<Figure size 1000x1000 with 20 Axes>"
      ]
     },
     "metadata": {},
     "output_type": "display_data"
    }
   ],
   "source": [
    "sns.pairplot(iris)"
   ]
  },
  {
   "cell_type": "code",
   "execution_count": 66,
   "metadata": {},
   "outputs": [
    {
     "data": {
      "text/plain": [
       "<seaborn.axisgrid.JointGrid at 0x1bedd3f1b80>"
      ]
     },
     "execution_count": 66,
     "metadata": {},
     "output_type": "execute_result"
    },
    {
     "data": {
      "image/png": "[encoded data removed]",
      "text/plain": [
       "<Figure size 600x600 with 3 Axes>"
      ]
     },
     "metadata": {},
     "output_type": "display_data"
    }
   ],
   "source": [
    "sns.jointplot(x='sepal_length', y='sepal_width', hue='species', data=iris)"
   ]
  }
 ],
 "metadata": {
  "kernelspec": {
   "display_name": "ambiente_curso",
   "language": "python",
   "name": "python3"
  },
  "language_info": {
   "codemirror_mode": {
    "name": "ipython",
    "version": 3
   },
   "file_extension": ".py",
   "mimetype": "text/x-python",
   "name": "python",
   "nbconvert_exporter": "python",
   "pygments_lexer": "ipython3",
   "version": "3.9.13"
  }
 },
 "nbformat": 4,
 "nbformat_minor": 2
}
